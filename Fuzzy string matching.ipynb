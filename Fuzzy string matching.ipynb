{
 "cells": [
  {
   "cell_type": "code",
   "execution_count": 19,
   "outputs": [],
   "source": [
    "import pandas as pd"
   ],
   "metadata": {
    "collapsed": false,
    "pycharm": {
     "name": "#%%\n"
    }
   }
  },
  {
   "cell_type": "code",
   "execution_count": 20,
   "metadata": {
    "collapsed": true
   },
   "outputs": [
    {
     "name": "stdout",
     "output_type": "stream",
     "text": [
      "value: 64\n"
     ]
    }
   ],
   "source": [
    "from fuzzywuzzy import fuzz\n",
    "value = fuzz.token_sort_ratio('New York in the house 2002 uhgbjkn hubijnk', 'hgbjn in the house New York! ')\n",
    "print('value: ' + str(value))"
   ]
  },
  {
   "cell_type": "code",
   "execution_count": 22,
   "outputs": [],
   "source": [
    "Data = pd.read_csv('/Users/rahul.madan/Desktop/CDA course files/project files/data_subpart1000.csv')"
   ],
   "metadata": {
    "collapsed": false,
    "pycharm": {
     "name": "#%%\n"
    }
   }
  },
  {
   "cell_type": "code",
   "execution_count": 38,
   "outputs": [
    {
     "name": "stdout",
     "output_type": "stream",
     "text": [
      "356\n"
     ]
    },
    {
     "data": {
      "text/plain": "[]"
     },
     "execution_count": 38,
     "metadata": {},
     "output_type": "execute_result"
    }
   ],
   "source": [
    "unique_items = Data['product_name'].unique()\n",
    "print(len(unique_items))\n",
    "\n",
    "similar=[]\n",
    "for i in unique_items:\n",
    "    if fuzz.token_sort_ratio(i,\"Real Cranberry Juice - 1 Ltr\")>60:\n",
    "        similar.append(i)\n",
    "\n",
    "similar"
   ],
   "metadata": {
    "collapsed": false,
    "pycharm": {
     "name": "#%%\n"
    }
   }
  },
  {
   "cell_type": "markdown",
   "source": [
    "# merge xsxls into 1"
   ],
   "metadata": {
    "collapsed": false
   }
  },
  {
   "cell_type": "code",
   "execution_count": 4,
   "outputs": [],
   "source": [
    "# importing the required modules\n",
    "import glob\n",
    "import pandas as pd\n",
    "\n",
    "# specifying the path to csv files\n",
    "path = \"/Users/rahul.madan/Desktop/CDA course files/project files/datagrabbostorepos\"\n",
    "\n",
    "# csv files in the path\n",
    "file_list = glob.glob(path + \"/*.xlsx\")\n",
    "\n",
    "# list of excel files we want to merge.\n",
    "# pd.read_excel(file_path) reads the excel\n",
    "# data into pandas dataframe."
   ],
   "metadata": {
    "collapsed": false,
    "pycharm": {
     "name": "#%%\n"
    }
   }
  },
  {
   "cell_type": "code",
   "execution_count": 5,
   "outputs": [],
   "source": [
    "\n",
    "excl_list = []\n",
    "\n",
    "for file in file_list:\n",
    "\texcl_list.append(pd.read_excel(file))\n",
    "\n",
    "# create a new dataframe to store the\n",
    "# merged excel file.\n",
    "excl_merged = pd.DataFrame()"
   ],
   "metadata": {
    "collapsed": false,
    "pycharm": {
     "name": "#%%\n"
    }
   }
  },
  {
   "cell_type": "code",
   "execution_count": 6,
   "outputs": [
    {
     "name": "stderr",
     "output_type": "stream",
     "text": [
      "/var/folders/fn/c33r88ts7dvfl73p9x0_qxh00000gn/T/ipykernel_47768/4264567574.py:5: FutureWarning: The frame.append method is deprecated and will be removed from pandas in a future version. Use pandas.concat instead.\n",
      "  excl_merged = excl_merged.append(\n"
     ]
    }
   ],
   "source": [
    "\n",
    "for excl_file in excl_list:\n",
    "\n",
    "\t# appends the data into the excl_merged\n",
    "\t# dataframe.\n",
    "\texcl_merged = excl_merged.append(\n",
    "\texcl_file, ignore_index=True)\n",
    "\n",
    "# exports the dataframe into excel file with\n",
    "# specified name.\n",
    "excl_merged.to_csv('/Users/rahul.madan/Desktop/CDA course files/project files/datagrabbostorepos/combined.csv', index=False)\n"
   ],
   "metadata": {
    "collapsed": false,
    "pycharm": {
     "name": "#%%\n"
    }
   }
  },
  {
   "cell_type": "code",
   "execution_count": 7,
   "outputs": [
    {
     "data": {
      "text/plain": "            No  Bill number       Date  \\\n0  13617/21-22      1361722 2022-01-01   \n1  13618/21-22      1361822 2022-01-01   \n2  13619/21-22      1361922 2022-01-01   \n3  13619/21-22      1361922 2022-01-01   \n4  13620/21-22      1362022 2022-01-01   \n\n                                                Item    Code    HSN Code Unit  \\\n0  Cadbury - Oreo Chocolatey Sandwich Biscuits - ...  3095.0  19053100.0  PAC   \n1               Surf Excel Washing Soap Bar - 80 gms  1898.0  34011930.0  PAC   \n2                              Vim - Lemons - 145 ml  2491.0  34022010.0  PAC   \n3          Nescafe - Classic Coffee Sachet - 7.5 gms  3043.0    210111.0  PAC   \n4                                     B Fizz- 160 ml  2435.0         NaN  CAN   \n\n   Qty  \n0  2.0  \n1  1.0  \n2  2.0  \n3  3.0  \n4  1.0  ",
      "text/html": "<div>\n<style scoped>\n    .dataframe tbody tr th:only-of-type {\n        vertical-align: middle;\n    }\n\n    .dataframe tbody tr th {\n        vertical-align: top;\n    }\n\n    .dataframe thead th {\n        text-align: right;\n    }\n</style>\n<table border=\"1\" class=\"dataframe\">\n  <thead>\n    <tr style=\"text-align: right;\">\n      <th></th>\n      <th>No</th>\n      <th>Bill number</th>\n      <th>Date</th>\n      <th>Item</th>\n      <th>Code</th>\n      <th>HSN Code</th>\n      <th>Unit</th>\n      <th>Qty</th>\n    </tr>\n  </thead>\n  <tbody>\n    <tr>\n      <th>0</th>\n      <td>13617/21-22</td>\n      <td>1361722</td>\n      <td>2022-01-01</td>\n      <td>Cadbury - Oreo Chocolatey Sandwich Biscuits - ...</td>\n      <td>3095.0</td>\n      <td>19053100.0</td>\n      <td>PAC</td>\n      <td>2.0</td>\n    </tr>\n    <tr>\n      <th>1</th>\n      <td>13618/21-22</td>\n      <td>1361822</td>\n      <td>2022-01-01</td>\n      <td>Surf Excel Washing Soap Bar - 80 gms</td>\n      <td>1898.0</td>\n      <td>34011930.0</td>\n      <td>PAC</td>\n      <td>1.0</td>\n    </tr>\n    <tr>\n      <th>2</th>\n      <td>13619/21-22</td>\n      <td>1361922</td>\n      <td>2022-01-01</td>\n      <td>Vim - Lemons - 145 ml</td>\n      <td>2491.0</td>\n      <td>34022010.0</td>\n      <td>PAC</td>\n      <td>2.0</td>\n    </tr>\n    <tr>\n      <th>3</th>\n      <td>13619/21-22</td>\n      <td>1361922</td>\n      <td>2022-01-01</td>\n      <td>Nescafe - Classic Coffee Sachet - 7.5 gms</td>\n      <td>3043.0</td>\n      <td>210111.0</td>\n      <td>PAC</td>\n      <td>3.0</td>\n    </tr>\n    <tr>\n      <th>4</th>\n      <td>13620/21-22</td>\n      <td>1362022</td>\n      <td>2022-01-01</td>\n      <td>B Fizz- 160 ml</td>\n      <td>2435.0</td>\n      <td>NaN</td>\n      <td>CAN</td>\n      <td>1.0</td>\n    </tr>\n  </tbody>\n</table>\n</div>"
     },
     "execution_count": 7,
     "metadata": {},
     "output_type": "execute_result"
    }
   ],
   "source": [
    "excl_merged.head()"
   ],
   "metadata": {
    "collapsed": false,
    "pycharm": {
     "name": "#%%\n"
    }
   }
  },
  {
   "cell_type": "code",
   "execution_count": 8,
   "outputs": [
    {
     "data": {
      "text/plain": "265588"
     },
     "execution_count": 8,
     "metadata": {},
     "output_type": "execute_result"
    }
   ],
   "source": [
    "excl_merged['Bill number'].count()"
   ],
   "metadata": {
    "collapsed": false,
    "pycharm": {
     "name": "#%%\n"
    }
   }
  },
  {
   "cell_type": "code",
   "execution_count": 11,
   "outputs": [
    {
     "data": {
      "text/plain": "74085"
     },
     "execution_count": 11,
     "metadata": {},
     "output_type": "execute_result"
    }
   ],
   "source": [
    "len(excl_merged['Bill number'].unique())"
   ],
   "metadata": {
    "collapsed": false,
    "pycharm": {
     "name": "#%%\n"
    }
   }
  },
  {
   "cell_type": "code",
   "execution_count": 20,
   "outputs": [
    {
     "data": {
      "text/plain": "0"
     },
     "execution_count": 20,
     "metadata": {},
     "output_type": "execute_result"
    }
   ],
   "source": [
    "sum(excl_merged['Bill number'].isnull())"
   ],
   "metadata": {
    "collapsed": false,
    "pycharm": {
     "name": "#%%\n"
    }
   }
  },
  {
   "cell_type": "code",
   "execution_count": 21,
   "outputs": [
    {
     "data": {
      "text/plain": "        Bill number           Code      HSN Code            Qty\ncount  2.655880e+05  265587.000000  2.533220e+05  265587.000000\nmean   2.632037e+06    2771.684277  1.352916e+07       1.821279\nstd    1.753386e+06    1913.244885  5.136427e+07      20.838461\nmin    1.220000e+02      11.000000  7.010000e+02    -216.000000\n25%    1.156122e+06    1002.000000  2.106900e+05       1.000000\n50%    2.294722e+06    2613.000000  9.023020e+06       1.000000\n75%    4.006447e+06    4132.000000  2.008191e+07       2.000000\nmax    6.271422e+06    7015.000000  1.311022e+09   10000.000000",
      "text/html": "<div>\n<style scoped>\n    .dataframe tbody tr th:only-of-type {\n        vertical-align: middle;\n    }\n\n    .dataframe tbody tr th {\n        vertical-align: top;\n    }\n\n    .dataframe thead th {\n        text-align: right;\n    }\n</style>\n<table border=\"1\" class=\"dataframe\">\n  <thead>\n    <tr style=\"text-align: right;\">\n      <th></th>\n      <th>Bill number</th>\n      <th>Code</th>\n      <th>HSN Code</th>\n      <th>Qty</th>\n    </tr>\n  </thead>\n  <tbody>\n    <tr>\n      <th>count</th>\n      <td>2.655880e+05</td>\n      <td>265587.000000</td>\n      <td>2.533220e+05</td>\n      <td>265587.000000</td>\n    </tr>\n    <tr>\n      <th>mean</th>\n      <td>2.632037e+06</td>\n      <td>2771.684277</td>\n      <td>1.352916e+07</td>\n      <td>1.821279</td>\n    </tr>\n    <tr>\n      <th>std</th>\n      <td>1.753386e+06</td>\n      <td>1913.244885</td>\n      <td>5.136427e+07</td>\n      <td>20.838461</td>\n    </tr>\n    <tr>\n      <th>min</th>\n      <td>1.220000e+02</td>\n      <td>11.000000</td>\n      <td>7.010000e+02</td>\n      <td>-216.000000</td>\n    </tr>\n    <tr>\n      <th>25%</th>\n      <td>1.156122e+06</td>\n      <td>1002.000000</td>\n      <td>2.106900e+05</td>\n      <td>1.000000</td>\n    </tr>\n    <tr>\n      <th>50%</th>\n      <td>2.294722e+06</td>\n      <td>2613.000000</td>\n      <td>9.023020e+06</td>\n      <td>1.000000</td>\n    </tr>\n    <tr>\n      <th>75%</th>\n      <td>4.006447e+06</td>\n      <td>4132.000000</td>\n      <td>2.008191e+07</td>\n      <td>2.000000</td>\n    </tr>\n    <tr>\n      <th>max</th>\n      <td>6.271422e+06</td>\n      <td>7015.000000</td>\n      <td>1.311022e+09</td>\n      <td>10000.000000</td>\n    </tr>\n  </tbody>\n</table>\n</div>"
     },
     "execution_count": 21,
     "metadata": {},
     "output_type": "execute_result"
    }
   ],
   "source": [
    "excl_merged.describe()"
   ],
   "metadata": {
    "collapsed": false,
    "pycharm": {
     "name": "#%%\n"
    }
   }
  },
  {
   "cell_type": "code",
   "execution_count": 22,
   "outputs": [
    {
     "data": {
      "text/plain": "No                     object\nBill number             int64\nDate           datetime64[ns]\nItem                   object\nCode                  float64\nHSN Code              float64\nUnit                   object\nQty                   float64\ndtype: object"
     },
     "execution_count": 22,
     "metadata": {},
     "output_type": "execute_result"
    }
   ],
   "source": [
    "excl_merged.dtypes"
   ],
   "metadata": {
    "collapsed": false,
    "pycharm": {
     "name": "#%%\n"
    }
   }
  },
  {
   "cell_type": "code",
   "execution_count": 23,
   "outputs": [
    {
     "ename": "AttributeError",
     "evalue": "'numpy.ndarray' object has no attribute 'to_csv'",
     "output_type": "error",
     "traceback": [
      "\u001B[0;31m---------------------------------------------------------------------------\u001B[0m",
      "\u001B[0;31mAttributeError\u001B[0m                            Traceback (most recent call last)",
      "Cell \u001B[0;32mIn[23], line 1\u001B[0m\n\u001B[0;32m----> 1\u001B[0m \u001B[43mexcl_merged\u001B[49m\u001B[43m[\u001B[49m\u001B[38;5;124;43m'\u001B[39;49m\u001B[38;5;124;43mItem\u001B[39;49m\u001B[38;5;124;43m'\u001B[39;49m\u001B[43m]\u001B[49m\u001B[38;5;241;43m.\u001B[39;49m\u001B[43munique\u001B[49m\u001B[43m(\u001B[49m\u001B[43m)\u001B[49m\u001B[38;5;241;43m.\u001B[39;49m\u001B[43mto_csv\u001B[49m(\u001B[38;5;124m\"\u001B[39m\u001B[38;5;124m/Users/rahul.madan/Desktop/CDA course files/project files/datagrabbostorepos/items.csv\u001B[39m\u001B[38;5;124m\"\u001B[39m)\n",
      "\u001B[0;31mAttributeError\u001B[0m: 'numpy.ndarray' object has no attribute 'to_csv'"
     ]
    }
   ],
   "source": [],
   "metadata": {
    "collapsed": false,
    "pycharm": {
     "name": "#%%\n"
    }
   }
  },
  {
   "cell_type": "code",
   "execution_count": null,
   "outputs": [],
   "source": [],
   "metadata": {
    "collapsed": false,
    "pycharm": {
     "name": "#%%\n"
    }
   }
  },
  {
   "cell_type": "code",
   "execution_count": null,
   "outputs": [],
   "source": [],
   "metadata": {
    "collapsed": false,
    "pycharm": {
     "name": "#%%\n"
    }
   }
  }
 ],
 "metadata": {
  "kernelspec": {
   "display_name": "Python 3",
   "language": "python",
   "name": "python3"
  },
  "language_info": {
   "codemirror_mode": {
    "name": "ipython",
    "version": 2
   },
   "file_extension": ".py",
   "mimetype": "text/x-python",
   "name": "python",
   "nbconvert_exporter": "python",
   "pygments_lexer": "ipython2",
   "version": "2.7.6"
  }
 },
 "nbformat": 4,
 "nbformat_minor": 0
}