{
 "cells": [
  {
   "cell_type": "code",
   "execution_count": 1,
   "metadata": {
    "collapsed": true
   },
   "outputs": [],
   "source": [
    "import numpy as np\n",
    "import pandas as pd\n",
    "from apyori import apriori"
   ]
  },
  {
   "cell_type": "code",
   "execution_count": 2,
   "outputs": [],
   "source": [
    "store_data = pd.read_csv('/Users/rahul.madan/Downloads/apriori dummy data.csv', header=None)"
   ],
   "metadata": {
    "collapsed": false,
    "pycharm": {
     "name": "#%%\n"
    }
   }
  },
  {
   "cell_type": "code",
   "execution_count": 5,
   "outputs": [
    {
     "data": {
      "text/plain": "       0      1      2       3     4\n0   Wine  Chips  Bread  butter  milk\n1   Wine  Chips  Bread     NaN  milk\n2   Wine    NaN  Bread  butter  milk\n3   Wine    NaN  Bread  butter  milk\n4   Wine  Chips    NaN  butter   NaN\n5   Wine  Chips  Bread     NaN  milk\n6   Wine  Chips  Bread  butter  milk\n7    NaN    NaN    NaN  butter  milk\n8   Wine  Chips  Bread  butter  milk\n9   Wine  Chips  Bread     NaN  milk\n10  Wine  Chips    NaN     NaN   NaN\n11  Wine  Chips    NaN  butter  milk\n12   NaN    NaN  Bread  butter  milk\n13  Wine  Chips  Bread  butter   NaN\n14   NaN  Chips    NaN     NaN  milk\n15  Wine    NaN  Bread  butter  milk\n16  Wine  Chips  Bread  butter  milk\n17   NaN  Chips    NaN  butter  milk\n18  Wine  Chips  Bread  butter   NaN\n19  Wine    NaN  Bread  butter  milk\n20  Wine  Chips  Bread  butter  milk",
      "text/html": "<div>\n<style scoped>\n    .dataframe tbody tr th:only-of-type {\n        vertical-align: middle;\n    }\n\n    .dataframe tbody tr th {\n        vertical-align: top;\n    }\n\n    .dataframe thead th {\n        text-align: right;\n    }\n</style>\n<table border=\"1\" class=\"dataframe\">\n  <thead>\n    <tr style=\"text-align: right;\">\n      <th></th>\n      <th>0</th>\n      <th>1</th>\n      <th>2</th>\n      <th>3</th>\n      <th>4</th>\n    </tr>\n  </thead>\n  <tbody>\n    <tr>\n      <th>0</th>\n      <td>Wine</td>\n      <td>Chips</td>\n      <td>Bread</td>\n      <td>butter</td>\n      <td>milk</td>\n    </tr>\n    <tr>\n      <th>1</th>\n      <td>Wine</td>\n      <td>Chips</td>\n      <td>Bread</td>\n      <td>NaN</td>\n      <td>milk</td>\n    </tr>\n    <tr>\n      <th>2</th>\n      <td>Wine</td>\n      <td>NaN</td>\n      <td>Bread</td>\n      <td>butter</td>\n      <td>milk</td>\n    </tr>\n    <tr>\n      <th>3</th>\n      <td>Wine</td>\n      <td>NaN</td>\n      <td>Bread</td>\n      <td>butter</td>\n      <td>milk</td>\n    </tr>\n    <tr>\n      <th>4</th>\n      <td>Wine</td>\n      <td>Chips</td>\n      <td>NaN</td>\n      <td>butter</td>\n      <td>NaN</td>\n    </tr>\n    <tr>\n      <th>5</th>\n      <td>Wine</td>\n      <td>Chips</td>\n      <td>Bread</td>\n      <td>NaN</td>\n      <td>milk</td>\n    </tr>\n    <tr>\n      <th>6</th>\n      <td>Wine</td>\n      <td>Chips</td>\n      <td>Bread</td>\n      <td>butter</td>\n      <td>milk</td>\n    </tr>\n    <tr>\n      <th>7</th>\n      <td>NaN</td>\n      <td>NaN</td>\n      <td>NaN</td>\n      <td>butter</td>\n      <td>milk</td>\n    </tr>\n    <tr>\n      <th>8</th>\n      <td>Wine</td>\n      <td>Chips</td>\n      <td>Bread</td>\n      <td>butter</td>\n      <td>milk</td>\n    </tr>\n    <tr>\n      <th>9</th>\n      <td>Wine</td>\n      <td>Chips</td>\n      <td>Bread</td>\n      <td>NaN</td>\n      <td>milk</td>\n    </tr>\n    <tr>\n      <th>10</th>\n      <td>Wine</td>\n      <td>Chips</td>\n      <td>NaN</td>\n      <td>NaN</td>\n      <td>NaN</td>\n    </tr>\n    <tr>\n      <th>11</th>\n      <td>Wine</td>\n      <td>Chips</td>\n      <td>NaN</td>\n      <td>butter</td>\n      <td>milk</td>\n    </tr>\n    <tr>\n      <th>12</th>\n      <td>NaN</td>\n      <td>NaN</td>\n      <td>Bread</td>\n      <td>butter</td>\n      <td>milk</td>\n    </tr>\n    <tr>\n      <th>13</th>\n      <td>Wine</td>\n      <td>Chips</td>\n      <td>Bread</td>\n      <td>butter</td>\n      <td>NaN</td>\n    </tr>\n    <tr>\n      <th>14</th>\n      <td>NaN</td>\n      <td>Chips</td>\n      <td>NaN</td>\n      <td>NaN</td>\n      <td>milk</td>\n    </tr>\n    <tr>\n      <th>15</th>\n      <td>Wine</td>\n      <td>NaN</td>\n      <td>Bread</td>\n      <td>butter</td>\n      <td>milk</td>\n    </tr>\n    <tr>\n      <th>16</th>\n      <td>Wine</td>\n      <td>Chips</td>\n      <td>Bread</td>\n      <td>butter</td>\n      <td>milk</td>\n    </tr>\n    <tr>\n      <th>17</th>\n      <td>NaN</td>\n      <td>Chips</td>\n      <td>NaN</td>\n      <td>butter</td>\n      <td>milk</td>\n    </tr>\n    <tr>\n      <th>18</th>\n      <td>Wine</td>\n      <td>Chips</td>\n      <td>Bread</td>\n      <td>butter</td>\n      <td>NaN</td>\n    </tr>\n    <tr>\n      <th>19</th>\n      <td>Wine</td>\n      <td>NaN</td>\n      <td>Bread</td>\n      <td>butter</td>\n      <td>milk</td>\n    </tr>\n    <tr>\n      <th>20</th>\n      <td>Wine</td>\n      <td>Chips</td>\n      <td>Bread</td>\n      <td>butter</td>\n      <td>milk</td>\n    </tr>\n  </tbody>\n</table>\n</div>"
     },
     "execution_count": 5,
     "metadata": {},
     "output_type": "execute_result"
    }
   ],
   "source": [
    "store_data"
   ],
   "metadata": {
    "collapsed": false,
    "pycharm": {
     "name": "#%%\n"
    }
   }
  },
  {
   "cell_type": "code",
   "execution_count": 6,
   "outputs": [],
   "source": [
    "records = []\n",
    "for i in range(0, 21):\n",
    "    records.append([str(store_data.values [i,j]) for j in range(0, 5)])"
   ],
   "metadata": {
    "collapsed": false,
    "pycharm": {
     "name": "#%%\n"
    }
   }
  },
  {
   "cell_type": "code",
   "execution_count": 7,
   "outputs": [
    {
     "data": {
      "text/plain": "[['Wine', 'Chips', 'Bread', 'butter', 'milk'],\n ['Wine', 'Chips', 'Bread', 'nan', 'milk'],\n ['Wine', 'nan', 'Bread', 'butter', 'milk'],\n ['Wine', 'nan', 'Bread', 'butter', 'milk'],\n ['Wine', 'Chips', 'nan', 'butter', 'nan'],\n ['Wine', 'Chips', 'Bread', 'nan', 'milk'],\n ['Wine', 'Chips', 'Bread', 'butter', 'milk'],\n ['nan', 'nan', 'nan', 'butter', 'milk'],\n ['Wine', 'Chips', 'Bread', 'butter', 'milk'],\n ['Wine', 'Chips', 'Bread', 'nan', 'milk'],\n ['Wine', 'Chips', 'nan', 'nan', 'nan'],\n ['Wine', 'Chips', 'nan', 'butter', 'milk'],\n ['nan', 'nan', 'Bread', 'butter', 'milk'],\n ['Wine', 'Chips', 'Bread', 'butter', 'nan'],\n ['nan', 'Chips', 'nan', 'nan', 'milk'],\n ['Wine', 'nan', 'Bread', 'butter', 'milk'],\n ['Wine', 'Chips', 'Bread', 'butter', 'milk'],\n ['nan', 'Chips', 'nan', 'butter', 'milk'],\n ['Wine', 'Chips', 'Bread', 'butter', 'nan'],\n ['Wine', 'nan', 'Bread', 'butter', 'milk'],\n ['Wine', 'Chips', 'Bread', 'butter', 'milk']]"
     },
     "execution_count": 7,
     "metadata": {},
     "output_type": "execute_result"
    }
   ],
   "source": [
    "records"
   ],
   "metadata": {
    "collapsed": false,
    "pycharm": {
     "name": "#%%\n"
    }
   }
  },
  {
   "cell_type": "code",
   "execution_count": 8,
   "outputs": [],
   "source": [
    "association_rules = apriori (records,min_support=0.50, min_confidence=0.7, min_lift=1.2, min_length=2)\n",
    "association_results = list(association_rules)"
   ],
   "metadata": {
    "collapsed": false,
    "pycharm": {
     "name": "#%%\n"
    }
   }
  },
  {
   "cell_type": "code",
   "execution_count": 9,
   "outputs": [
    {
     "name": "stdout",
     "output_type": "stream",
     "text": [
      "1\n"
     ]
    }
   ],
   "source": [
    "print (len(association_results))"
   ],
   "metadata": {
    "collapsed": false,
    "pycharm": {
     "name": "#%%\n"
    }
   }
  },
  {
   "cell_type": "code",
   "execution_count": 10,
   "outputs": [
    {
     "name": "stdout",
     "output_type": "stream",
     "text": [
      "[RelationRecord(items=frozenset({'Bread', 'Wine', 'milk'}), support=0.5714285714285714, ordered_statistics=[OrderedStatistic(items_base=frozenset({'Bread'}), items_add=frozenset({'Wine', 'milk'}), confidence=0.7999999999999999, lift=1.2923076923076922), OrderedStatistic(items_base=frozenset({'Wine', 'milk'}), items_add=frozenset({'Bread'}), confidence=0.923076923076923, lift=1.2923076923076922)])]\n"
     ]
    }
   ],
   "source": [
    "print(association_results)"
   ],
   "metadata": {
    "collapsed": false,
    "pycharm": {
     "name": "#%%\n"
    }
   }
  },
  {
   "cell_type": "code",
   "execution_count": null,
   "outputs": [],
   "source": [],
   "metadata": {
    "collapsed": false,
    "pycharm": {
     "name": "#%%\n"
    }
   }
  }
 ],
 "metadata": {
  "kernelspec": {
   "display_name": "Python 3",
   "language": "python",
   "name": "python3"
  },
  "language_info": {
   "codemirror_mode": {
    "name": "ipython",
    "version": 2
   },
   "file_extension": ".py",
   "mimetype": "text/x-python",
   "name": "python",
   "nbconvert_exporter": "python",
   "pygments_lexer": "ipython2",
   "version": "2.7.6"
  }
 },
 "nbformat": 4,
 "nbformat_minor": 0
}